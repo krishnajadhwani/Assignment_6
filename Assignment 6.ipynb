{
 "cells": [
  {
   "cell_type": "markdown",
   "id": "d4ed7ec4-67b8-41a0-972e-dca4dc76e886",
   "metadata": {},
   "source": [
    "Q1. Create a function which will take a list as an argument and return the product of all the numbers\n",
    "after creating a flat list.\n",
    "Use the below-given list as an argument for your function.\n",
    "list1 = [1,2,3,4, [44,55,66, True], False, (34,56,78,89,34), {1,2,3,3,2,1}, {1:34, \"key2\": [55, 67, 78, 89], 4: (45,\n",
    "22, 61, 34)}, [56, 'data science'], 'Machine Learning']\n",
    "Note: you must extract numeric keys and values of the dictionary also."
   ]
  },
  {
   "cell_type": "code",
   "execution_count": 2,
   "id": "8c89c07b-7d8c-4848-91e2-965c074186c0",
   "metadata": {},
   "outputs": [
    {
     "name": "stdout",
     "output_type": "stream",
     "text": [
      "Product of all numbers in the list: 0\n"
     ]
    }
   ],
   "source": [
    "\n",
    "def flatten_list(lst):\n",
    "    flattened_list = []\n",
    "    for item in lst:\n",
    "        if isinstance(item, list):\n",
    "            flattened_list.extend(flatten_list(item))\n",
    "        elif isinstance(item, dict):\n",
    "            for value in item.values():\n",
    "                if isinstance(value, (int, float)):\n",
    "                    flattened_list.append(value)\n",
    "        elif isinstance(item, (int, float)):\n",
    "            flattened_list.append(item)\n",
    "    return flattened_list\n",
    "\n",
    "def calculate_product(lst):\n",
    "    flattened_list = flatten_list(lst)\n",
    "    product = 1\n",
    "    for num in flattened_list:\n",
    "        product *= num\n",
    "    return product\n",
    "\n",
    "# Test the function with the given list\n",
    "list1 = [1, 2, 3, 4, [44, 55, 66, True], False, (34, 56, 78, 89, 34), {1, 2, 3, 3, 2, 1},\n",
    "         {1: 34, \"key2\": [55, 67, 78, 89], 4: (45, 22, 61, 34)}, [56, 'data science'], 'Machine Learning']\n",
    "\n",
    "result = calculate_product(list1)\n",
    "print(\"Product of all numbers in the list:\", result)\n",
    "\n",
    "\n",
    "\n",
    "\n"
   ]
  },
  {
   "cell_type": "markdown",
   "id": "899c18e0-3f1b-46b3-a301-4b679d9d3532",
   "metadata": {},
   "source": [
    "!2. Q2. Write a python program for encrypting a message sent to you by your friend. The logic of encryption\n",
    "should be such that, for a the output should be z. For b, the output should be y. For c, the output should\n",
    "be x respectively. Also, the whitespace should be replaced with a dollar sign. Keep the punctuation\n",
    "marks unchanged.\n",
    "Input Sentence: I want to become a Data Scientist.\n",
    "Encrypt the above input sentence using the program you just created.\n",
    "Note: Convert the given input sentence into lowercase before encrypting. The final output should be\n",
    "lowercase."
   ]
  },
  {
   "cell_type": "code",
   "execution_count": null,
   "id": "8bd5f0d3-c246-4d53-a428-f6cc1c87f307",
   "metadata": {},
   "outputs": [],
   "source": [
    "def encrypt_message(message):\n",
    "    encrypted_message = \"\"\n",
    "    for char in message:\n",
    "        if char.isalpha():  # Check if the character is an alphabet\n",
    "            # Convert the character to lowercase and get its ASCII code\n",
    "            char_code = ord(char.lower())\n",
    "            # Encrypt the character and append to the encrypted message\n",
    "            encrypted_char = chr(219 - char_code)  # 219 is the ASCII code of 'z'\n",
    "            encrypted_message += encrypted_char\n",
    "        elif char.isspace():  # Check if the character is a whitespace\n",
    "            encrypted_message += '$'\n",
    "        else:\n",
    "            encrypted_message += char  # Keep punctuation marks unchanged\n",
    "    return encrypted_message\n",
    "\n",
    "# Test the encryption\n",
    "input_sentence = \"I want to become a Data Scientist.\"\n",
    "encrypted_sentence = encrypt_message(input_sentence.lower())\n",
    "print(\"Encrypted Message:\", encrypted_sentence)\n",
    "\n",
    "\n",
    "\n",
    "\n",
    "\n"
   ]
  }
 ],
 "metadata": {
  "kernelspec": {
   "display_name": "Python 3 (ipykernel)",
   "language": "python",
   "name": "python3"
  },
  "language_info": {
   "codemirror_mode": {
    "name": "ipython",
    "version": 3
   },
   "file_extension": ".py",
   "mimetype": "text/x-python",
   "name": "python",
   "nbconvert_exporter": "python",
   "pygments_lexer": "ipython3",
   "version": "3.10.8"
  }
 },
 "nbformat": 4,
 "nbformat_minor": 5
}
